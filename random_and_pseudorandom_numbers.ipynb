{
  "nbformat": 4,
  "nbformat_minor": 0,
  "metadata": {
    "colab": {
      "provenance": [],
      "include_colab_link": true
    },
    "kernelspec": {
      "name": "python3",
      "display_name": "Python 3"
    },
    "language_info": {
      "name": "python"
    }
  },
  "cells": [
    {
      "cell_type": "markdown",
      "metadata": {
        "id": "view-in-github",
        "colab_type": "text"
      },
      "source": [
        "<a href=\"https://colab.research.google.com/github/samanthahorta/Econometrics/blob/main/random_and_pseudorandom_numbers.ipynb\" target=\"_parent\"><img src=\"https://colab.research.google.com/assets/colab-badge.svg\" alt=\"Open In Colab\"/></a>"
      ]
    },
    {
      "cell_type": "code",
      "execution_count": null,
      "metadata": {
        "id": "L2movgUdv4d4"
      },
      "outputs": [],
      "source": [
        "import random\n"
      ]
    },
    {
      "cell_type": "code",
      "source": [
        "\n",
        "dado = random.randint(1,6) # devuelve un entero aleatorio entre 1 y 6"
      ],
      "metadata": {
        "id": "TodVY2aJwRIp"
      },
      "execution_count": null,
      "outputs": []
    },
    {
      "cell_type": "code",
      "source": [
        "tirada=[]\n",
        "for i in range(5):\n",
        "    tirada.append(random.randint(1,6)) \n",
        "\n",
        "print(tirada)"
      ],
      "metadata": {
        "colab": {
          "base_uri": "https://localhost:8080/"
        },
        "id": "nRMuQdtSwRlj",
        "outputId": "beb38c45-f427-41dc-e76b-a9d639865977"
      },
      "execution_count": null,
      "outputs": [
        {
          "output_type": "stream",
          "name": "stdout",
          "text": [
            "[5, 4, 2, 6, 6]\n"
          ]
        }
      ]
    },
    {
      "cell_type": "code",
      "source": [
        "#Pseudoaletorio\n",
        "random.seed(31415)\n",
        "\n",
        "tirada=[]\n",
        "for i in range(5):\n",
        "    tirada.append(random.randint(1,6)) \n",
        "\n",
        "print(tirada)"
      ],
      "metadata": {
        "colab": {
          "base_uri": "https://localhost:8080/"
        },
        "id": "ioswJ_IZwT6m",
        "outputId": "4278ac0f-0fe7-463d-a8e3-2260ddb2499e"
      },
      "execution_count": null,
      "outputs": [
        {
          "output_type": "stream",
          "name": "stdout",
          "text": [
            "[5, 3, 4, 1, 5]\n"
          ]
        }
      ]
    },
    {
      "cell_type": "code",
      "source": [
        "#Valores continuos\n",
        "def generar_punto():\n",
        "    x = random.random()\n",
        "    y = random.random()\n",
        "    return x,y"
      ],
      "metadata": {
        "id": "VMlFK5mewYGl"
      },
      "execution_count": null,
      "outputs": []
    },
    {
      "cell_type": "code",
      "source": [
        "x,y =generar_punto()"
      ],
      "metadata": {
        "id": "aF4fQrsLxIaY"
      },
      "execution_count": null,
      "outputs": []
    },
    {
      "cell_type": "code",
      "source": [
        "x"
      ],
      "metadata": {
        "colab": {
          "base_uri": "https://localhost:8080/"
        },
        "id": "u5droTixxRE0",
        "outputId": "75e60c61-6e35-43b1-b914-b7efea46d6ab"
      },
      "execution_count": null,
      "outputs": [
        {
          "output_type": "execute_result",
          "data": {
            "text/plain": [
              "0.7294258950274761"
            ]
          },
          "metadata": {},
          "execution_count": 24
        }
      ]
    },
    {
      "cell_type": "code",
      "source": [
        "y"
      ],
      "metadata": {
        "colab": {
          "base_uri": "https://localhost:8080/"
        },
        "id": "rVf-uXoNxTOY",
        "outputId": "44337e19-7983-4fef-87e9-f170e35dc683"
      },
      "execution_count": null,
      "outputs": [
        {
          "output_type": "execute_result",
          "data": {
            "text/plain": [
              "0.4018449721895718"
            ]
          },
          "metadata": {},
          "execution_count": 25
        }
      ]
    },
    {
      "cell_type": "code",
      "source": [
        "#aletaorios con la normal\n",
        "for i in range(10):\n",
        "        print(f'{random.normalvariate(0,1):.2f}', end=', ')"
      ],
      "metadata": {
        "colab": {
          "base_uri": "https://localhost:8080/"
        },
        "id": "5e_bEb2CxTz6",
        "outputId": "29805032-413a-4e08-8e83-1d240e0de67e"
      },
      "execution_count": null,
      "outputs": [
        {
          "output_type": "stream",
          "name": "stdout",
          "text": [
            "0.02, -0.87, -1.05, -1.19, -0.85, 1.13, -0.15, -1.34, 1.10, -1.55, "
          ]
        }
      ]
    }
  ]
}